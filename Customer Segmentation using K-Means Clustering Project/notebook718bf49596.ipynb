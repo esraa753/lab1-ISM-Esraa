{
 "cells": [
  {
   "cell_type": "code",
   "execution_count": 1,
   "id": "abccdcbf",
   "metadata": {
    "_cell_guid": "b1076dfc-b9ad-4769-8c92-a6c4dae69d19",
    "_uuid": "8f2839f25d086af736a60e9eeb907d3b93b6e0e5",
    "execution": {
     "iopub.execute_input": "2025-04-21T12:26:05.796010Z",
     "iopub.status.busy": "2025-04-21T12:26:05.795684Z",
     "iopub.status.idle": "2025-04-21T12:26:07.557470Z",
     "shell.execute_reply": "2025-04-21T12:26:07.556462Z"
    },
    "papermill": {
     "duration": 1.767459,
     "end_time": "2025-04-21T12:26:07.558995",
     "exception": false,
     "start_time": "2025-04-21T12:26:05.791536",
     "status": "completed"
    },
    "tags": []
   },
   "outputs": [
    {
     "name": "stdout",
     "output_type": "stream",
     "text": [
      "/kaggle/input/customer-segmentation-tutorial-in-python/Mall_Customers.csv\n"
     ]
    }
   ],
   "source": [
    "# This Python 3 environment comes with many helpful analytics libraries installed\n",
    "# It is defined by the kaggle/python Docker image: https://github.com/kaggle/docker-python\n",
    "# For example, here's several helpful packages to load\n",
    "\n",
    "import numpy as np # linear algebra\n",
    "import pandas as pd # data processing, CSV file I/O (e.g. pd.read_csv)\n",
    "\n",
    "# Input data files are available in the read-only \"../input/\" directory\n",
    "# For example, running this (by clicking run or pressing Shift+Enter) will list all files under the input directory\n",
    "\n",
    "import os\n",
    "for dirname, _, filenames in os.walk('/kaggle/input'):\n",
    "    for filename in filenames:\n",
    "        print(os.path.join(dirname, filename))\n",
    "\n",
    "# You can write up to 20GB to the current directory (/kaggle/working/) that gets preserved as output when you create a version using \"Save & Run All\" \n",
    "# You can also write temporary files to /kaggle/temp/, but they won't be saved outside of the current session"
   ]
  },
  {
   "cell_type": "code",
   "execution_count": 2,
   "id": "4c37cbb9",
   "metadata": {
    "execution": {
     "iopub.execute_input": "2025-04-21T12:26:07.566138Z",
     "iopub.status.busy": "2025-04-21T12:26:07.565300Z",
     "iopub.status.idle": "2025-04-21T12:26:07.601069Z",
     "shell.execute_reply": "2025-04-21T12:26:07.600213Z"
    },
    "papermill": {
     "duration": 0.040516,
     "end_time": "2025-04-21T12:26:07.602514",
     "exception": false,
     "start_time": "2025-04-21T12:26:07.561998",
     "status": "completed"
    },
    "tags": []
   },
   "outputs": [
    {
     "data": {
      "text/html": [
       "<div>\n",
       "<style scoped>\n",
       "    .dataframe tbody tr th:only-of-type {\n",
       "        vertical-align: middle;\n",
       "    }\n",
       "\n",
       "    .dataframe tbody tr th {\n",
       "        vertical-align: top;\n",
       "    }\n",
       "\n",
       "    .dataframe thead th {\n",
       "        text-align: right;\n",
       "    }\n",
       "</style>\n",
       "<table border=\"1\" class=\"dataframe\">\n",
       "  <thead>\n",
       "    <tr style=\"text-align: right;\">\n",
       "      <th></th>\n",
       "      <th>CustomerID</th>\n",
       "      <th>Gender</th>\n",
       "      <th>Age</th>\n",
       "      <th>Annual Income (k$)</th>\n",
       "      <th>Spending Score (1-100)</th>\n",
       "    </tr>\n",
       "  </thead>\n",
       "  <tbody>\n",
       "    <tr>\n",
       "      <th>0</th>\n",
       "      <td>1</td>\n",
       "      <td>Male</td>\n",
       "      <td>19</td>\n",
       "      <td>15</td>\n",
       "      <td>39</td>\n",
       "    </tr>\n",
       "    <tr>\n",
       "      <th>1</th>\n",
       "      <td>2</td>\n",
       "      <td>Male</td>\n",
       "      <td>21</td>\n",
       "      <td>15</td>\n",
       "      <td>81</td>\n",
       "    </tr>\n",
       "    <tr>\n",
       "      <th>2</th>\n",
       "      <td>3</td>\n",
       "      <td>Female</td>\n",
       "      <td>20</td>\n",
       "      <td>16</td>\n",
       "      <td>6</td>\n",
       "    </tr>\n",
       "    <tr>\n",
       "      <th>3</th>\n",
       "      <td>4</td>\n",
       "      <td>Female</td>\n",
       "      <td>23</td>\n",
       "      <td>16</td>\n",
       "      <td>77</td>\n",
       "    </tr>\n",
       "    <tr>\n",
       "      <th>4</th>\n",
       "      <td>5</td>\n",
       "      <td>Female</td>\n",
       "      <td>31</td>\n",
       "      <td>17</td>\n",
       "      <td>40</td>\n",
       "    </tr>\n",
       "  </tbody>\n",
       "</table>\n",
       "</div>"
      ],
      "text/plain": [
       "   CustomerID  Gender  Age  Annual Income (k$)  Spending Score (1-100)\n",
       "0           1    Male   19                  15                      39\n",
       "1           2    Male   21                  15                      81\n",
       "2           3  Female   20                  16                       6\n",
       "3           4  Female   23                  16                      77\n",
       "4           5  Female   31                  17                      40"
      ]
     },
     "execution_count": 2,
     "metadata": {},
     "output_type": "execute_result"
    }
   ],
   "source": [
    "import pandas as pd\n",
    "\n",
    "data = pd.read_csv('/kaggle/input/customer-segmentation-tutorial-in-python/Mall_Customers.csv')\n",
    "data.head()"
   ]
  },
  {
   "cell_type": "code",
   "execution_count": 3,
   "id": "c9be78db",
   "metadata": {
    "execution": {
     "iopub.execute_input": "2025-04-21T12:26:07.609525Z",
     "iopub.status.busy": "2025-04-21T12:26:07.608585Z",
     "iopub.status.idle": "2025-04-21T12:26:07.632214Z",
     "shell.execute_reply": "2025-04-21T12:26:07.631304Z"
    },
    "papermill": {
     "duration": 0.028232,
     "end_time": "2025-04-21T12:26:07.633584",
     "exception": false,
     "start_time": "2025-04-21T12:26:07.605352",
     "status": "completed"
    },
    "tags": []
   },
   "outputs": [
    {
     "name": "stdout",
     "output_type": "stream",
     "text": [
      "<class 'pandas.core.frame.DataFrame'>\n",
      "RangeIndex: 200 entries, 0 to 199\n",
      "Data columns (total 5 columns):\n",
      " #   Column                  Non-Null Count  Dtype \n",
      "---  ------                  --------------  ----- \n",
      " 0   CustomerID              200 non-null    int64 \n",
      " 1   Gender                  200 non-null    object\n",
      " 2   Age                     200 non-null    int64 \n",
      " 3   Annual Income (k$)      200 non-null    int64 \n",
      " 4   Spending Score (1-100)  200 non-null    int64 \n",
      "dtypes: int64(4), object(1)\n",
      "memory usage: 7.9+ KB\n"
     ]
    }
   ],
   "source": [
    "data.info()"
   ]
  },
  {
   "cell_type": "code",
   "execution_count": 4,
   "id": "2cddbec5",
   "metadata": {
    "execution": {
     "iopub.execute_input": "2025-04-21T12:26:07.641241Z",
     "iopub.status.busy": "2025-04-21T12:26:07.640978Z",
     "iopub.status.idle": "2025-04-21T12:26:07.661190Z",
     "shell.execute_reply": "2025-04-21T12:26:07.660507Z"
    },
    "papermill": {
     "duration": 0.026017,
     "end_time": "2025-04-21T12:26:07.662428",
     "exception": false,
     "start_time": "2025-04-21T12:26:07.636411",
     "status": "completed"
    },
    "tags": []
   },
   "outputs": [
    {
     "data": {
      "text/html": [
       "<div>\n",
       "<style scoped>\n",
       "    .dataframe tbody tr th:only-of-type {\n",
       "        vertical-align: middle;\n",
       "    }\n",
       "\n",
       "    .dataframe tbody tr th {\n",
       "        vertical-align: top;\n",
       "    }\n",
       "\n",
       "    .dataframe thead th {\n",
       "        text-align: right;\n",
       "    }\n",
       "</style>\n",
       "<table border=\"1\" class=\"dataframe\">\n",
       "  <thead>\n",
       "    <tr style=\"text-align: right;\">\n",
       "      <th></th>\n",
       "      <th>CustomerID</th>\n",
       "      <th>Age</th>\n",
       "      <th>Annual Income (k$)</th>\n",
       "      <th>Spending Score (1-100)</th>\n",
       "    </tr>\n",
       "  </thead>\n",
       "  <tbody>\n",
       "    <tr>\n",
       "      <th>count</th>\n",
       "      <td>200.000000</td>\n",
       "      <td>200.000000</td>\n",
       "      <td>200.000000</td>\n",
       "      <td>200.000000</td>\n",
       "    </tr>\n",
       "    <tr>\n",
       "      <th>mean</th>\n",
       "      <td>100.500000</td>\n",
       "      <td>38.850000</td>\n",
       "      <td>60.560000</td>\n",
       "      <td>50.200000</td>\n",
       "    </tr>\n",
       "    <tr>\n",
       "      <th>std</th>\n",
       "      <td>57.879185</td>\n",
       "      <td>13.969007</td>\n",
       "      <td>26.264721</td>\n",
       "      <td>25.823522</td>\n",
       "    </tr>\n",
       "    <tr>\n",
       "      <th>min</th>\n",
       "      <td>1.000000</td>\n",
       "      <td>18.000000</td>\n",
       "      <td>15.000000</td>\n",
       "      <td>1.000000</td>\n",
       "    </tr>\n",
       "    <tr>\n",
       "      <th>25%</th>\n",
       "      <td>50.750000</td>\n",
       "      <td>28.750000</td>\n",
       "      <td>41.500000</td>\n",
       "      <td>34.750000</td>\n",
       "    </tr>\n",
       "    <tr>\n",
       "      <th>50%</th>\n",
       "      <td>100.500000</td>\n",
       "      <td>36.000000</td>\n",
       "      <td>61.500000</td>\n",
       "      <td>50.000000</td>\n",
       "    </tr>\n",
       "    <tr>\n",
       "      <th>75%</th>\n",
       "      <td>150.250000</td>\n",
       "      <td>49.000000</td>\n",
       "      <td>78.000000</td>\n",
       "      <td>73.000000</td>\n",
       "    </tr>\n",
       "    <tr>\n",
       "      <th>max</th>\n",
       "      <td>200.000000</td>\n",
       "      <td>70.000000</td>\n",
       "      <td>137.000000</td>\n",
       "      <td>99.000000</td>\n",
       "    </tr>\n",
       "  </tbody>\n",
       "</table>\n",
       "</div>"
      ],
      "text/plain": [
       "       CustomerID         Age  Annual Income (k$)  Spending Score (1-100)\n",
       "count  200.000000  200.000000          200.000000              200.000000\n",
       "mean   100.500000   38.850000           60.560000               50.200000\n",
       "std     57.879185   13.969007           26.264721               25.823522\n",
       "min      1.000000   18.000000           15.000000                1.000000\n",
       "25%     50.750000   28.750000           41.500000               34.750000\n",
       "50%    100.500000   36.000000           61.500000               50.000000\n",
       "75%    150.250000   49.000000           78.000000               73.000000\n",
       "max    200.000000   70.000000          137.000000               99.000000"
      ]
     },
     "execution_count": 4,
     "metadata": {},
     "output_type": "execute_result"
    }
   ],
   "source": [
    "data.describe()"
   ]
  },
  {
   "cell_type": "code",
   "execution_count": 5,
   "id": "04cf7add",
   "metadata": {
    "execution": {
     "iopub.execute_input": "2025-04-21T12:26:07.669519Z",
     "iopub.status.busy": "2025-04-21T12:26:07.669236Z",
     "iopub.status.idle": "2025-04-21T12:26:07.944315Z",
     "shell.execute_reply": "2025-04-21T12:26:07.943441Z"
    },
    "papermill": {
     "duration": 0.28021,
     "end_time": "2025-04-21T12:26:07.945784",
     "exception": false,
     "start_time": "2025-04-21T12:26:07.665574",
     "status": "completed"
    },
    "tags": []
   },
   "outputs": [
    {
     "data": {
      "image/png": "[encoded data removed]",
      "text/plain": [
       "<Figure size 800x500 with 1 Axes>"
      ]
     },
     "metadata": {},
     "output_type": "display_data"
    }
   ],
   "source": [
    "import matplotlib.pyplot as plt\n",
    "\n",
    "plt.figure(figsize=(8,5))\n",
    "plt.scatter(data['Annual Income (k$)'], data['Spending Score (1-100)'], c='blue')\n",
    "plt.xlabel('Annual Income (k$)')\n",
    "plt.ylabel('Spending Score (1-100)')\n",
    "plt.title('Customer Distribution')\n",
    "plt.grid(True)\n",
    "plt.show()"
   ]
  },
  {
   "cell_type": "code",
   "execution_count": 6,
   "id": "6ca6e1f2",
   "metadata": {
    "execution": {
     "iopub.execute_input": "2025-04-21T12:26:07.953953Z",
     "iopub.status.busy": "2025-04-21T12:26:07.953648Z",
     "iopub.status.idle": "2025-04-21T12:26:09.856797Z",
     "shell.execute_reply": "2025-04-21T12:26:09.855376Z"
    },
    "papermill": {
     "duration": 1.909992,
     "end_time": "2025-04-21T12:26:09.859506",
     "exception": false,
     "start_time": "2025-04-21T12:26:07.949514",
     "status": "completed"
    },
    "tags": []
   },
   "outputs": [
    {
     "name": "stderr",
     "output_type": "stream",
     "text": [
      "/usr/local/lib/python3.11/dist-packages/sklearn/cluster/_kmeans.py:870: FutureWarning: The default value of `n_init` will change from 10 to 'auto' in 1.4. Set the value of `n_init` explicitly to suppress the warning\n",
      "  warnings.warn(\n"
     ]
    },
    {
     "data": {
      "text/html": [
       "<div>\n",
       "<style scoped>\n",
       "    .dataframe tbody tr th:only-of-type {\n",
       "        vertical-align: middle;\n",
       "    }\n",
       "\n",
       "    .dataframe tbody tr th {\n",
       "        vertical-align: top;\n",
       "    }\n",
       "\n",
       "    .dataframe thead th {\n",
       "        text-align: right;\n",
       "    }\n",
       "</style>\n",
       "<table border=\"1\" class=\"dataframe\">\n",
       "  <thead>\n",
       "    <tr style=\"text-align: right;\">\n",
       "      <th></th>\n",
       "      <th>CustomerID</th>\n",
       "      <th>Gender</th>\n",
       "      <th>Age</th>\n",
       "      <th>Annual Income (k$)</th>\n",
       "      <th>Spending Score (1-100)</th>\n",
       "      <th>Cluster</th>\n",
       "    </tr>\n",
       "  </thead>\n",
       "  <tbody>\n",
       "    <tr>\n",
       "      <th>0</th>\n",
       "      <td>1</td>\n",
       "      <td>Male</td>\n",
       "      <td>19</td>\n",
       "      <td>15</td>\n",
       "      <td>39</td>\n",
       "      <td>2</td>\n",
       "    </tr>\n",
       "    <tr>\n",
       "      <th>1</th>\n",
       "      <td>2</td>\n",
       "      <td>Male</td>\n",
       "      <td>21</td>\n",
       "      <td>15</td>\n",
       "      <td>81</td>\n",
       "      <td>3</td>\n",
       "    </tr>\n",
       "    <tr>\n",
       "      <th>2</th>\n",
       "      <td>3</td>\n",
       "      <td>Female</td>\n",
       "      <td>20</td>\n",
       "      <td>16</td>\n",
       "      <td>6</td>\n",
       "      <td>2</td>\n",
       "    </tr>\n",
       "    <tr>\n",
       "      <th>3</th>\n",
       "      <td>4</td>\n",
       "      <td>Female</td>\n",
       "      <td>23</td>\n",
       "      <td>16</td>\n",
       "      <td>77</td>\n",
       "      <td>3</td>\n",
       "    </tr>\n",
       "    <tr>\n",
       "      <th>4</th>\n",
       "      <td>5</td>\n",
       "      <td>Female</td>\n",
       "      <td>31</td>\n",
       "      <td>17</td>\n",
       "      <td>40</td>\n",
       "      <td>2</td>\n",
       "    </tr>\n",
       "  </tbody>\n",
       "</table>\n",
       "</div>"
      ],
      "text/plain": [
       "   CustomerID  Gender  Age  Annual Income (k$)  Spending Score (1-100)  \\\n",
       "0           1    Male   19                  15                      39   \n",
       "1           2    Male   21                  15                      81   \n",
       "2           3  Female   20                  16                       6   \n",
       "3           4  Female   23                  16                      77   \n",
       "4           5  Female   31                  17                      40   \n",
       "\n",
       "   Cluster  \n",
       "0        2  \n",
       "1        3  \n",
       "2        2  \n",
       "3        3  \n",
       "4        2  "
      ]
     },
     "execution_count": 6,
     "metadata": {},
     "output_type": "execute_result"
    }
   ],
   "source": [
    "from sklearn.cluster import KMeans\n",
    "\n",
    "X = data[['Annual Income (k$)', 'Spending Score (1-100)']]\n",
    "\n",
    "kmeans = KMeans(n_clusters=5, random_state=42)\n",
    "data['Cluster'] = kmeans.fit_predict(X)\n",
    "\n",
    "data.head()"
   ]
  },
  {
   "cell_type": "code",
   "execution_count": 7,
   "id": "e6798f0d",
   "metadata": {
    "execution": {
     "iopub.execute_input": "2025-04-21T12:26:09.871119Z",
     "iopub.status.busy": "2025-04-21T12:26:09.870731Z",
     "iopub.status.idle": "2025-04-21T12:26:10.080171Z",
     "shell.execute_reply": "2025-04-21T12:26:10.079280Z"
    },
    "papermill": {
     "duration": 0.215744,
     "end_time": "2025-04-21T12:26:10.081624",
     "exception": false,
     "start_time": "2025-04-21T12:26:09.865880",
     "status": "completed"
    },
    "tags": []
   },
   "outputs": [
    {
     "data": {
      "image/png": "[encoded data removed]",
      "text/plain": [
       "<Figure size 800x500 with 1 Axes>"
      ]
     },
     "metadata": {},
     "output_type": "display_data"
    }
   ],
   "source": [
    "# show the difference before & after clustring\n",
    "plt.figure(figsize=(8,5))\n",
    "plt.scatter(X['Annual Income (k$)'], X['Spending Score (1-100)'], c=data['Cluster'], cmap='rainbow')\n",
    "plt.xlabel('Annual Income (k$)')\n",
    "plt.ylabel('Spending Score (1-100)')\n",
    "plt.title('Customer Segments by K-Means')\n",
    "plt.grid(True)\n",
    "plt.show()"
   ]
  },
  {
   "cell_type": "code",
   "execution_count": 8,
   "id": "5a6fc251",
   "metadata": {
    "execution": {
     "iopub.execute_input": "2025-04-21T12:26:10.093371Z",
     "iopub.status.busy": "2025-04-21T12:26:10.092564Z",
     "iopub.status.idle": "2025-04-21T12:26:10.115807Z",
     "shell.execute_reply": "2025-04-21T12:26:10.114840Z"
    },
    "papermill": {
     "duration": 0.030241,
     "end_time": "2025-04-21T12:26:10.117136",
     "exception": false,
     "start_time": "2025-04-21T12:26:10.086895",
     "status": "completed"
    },
    "tags": []
   },
   "outputs": [
    {
     "name": "stdout",
     "output_type": "stream",
     "text": [
      "Silhouette Score: 0.553931997444648\n"
     ]
    }
   ],
   "source": [
    "#to rate the madel\n",
    "from sklearn.metrics import silhouette_score\n",
    "\n",
    "score = silhouette_score(X, data['Cluster'])\n",
    "print(\"Silhouette Score:\", score)"
   ]
  },
  {
   "cell_type": "code",
   "execution_count": null,
   "id": "bc4abd53",
   "metadata": {
    "papermill": {
     "duration": 0.004575,
     "end_time": "2025-04-21T12:26:10.126488",
     "exception": false,
     "start_time": "2025-04-21T12:26:10.121913",
     "status": "completed"
    },
    "tags": []
   },
   "outputs": [],
   "source": []
  },
  {
   "cell_type": "markdown",
   "id": "170dc9d1",
   "metadata": {
    "papermill": {
     "duration": 0.004372,
     "end_time": "2025-04-21T12:26:10.135410",
     "exception": false,
     "start_time": "2025-04-21T12:26:10.131038",
     "status": "completed"
    },
    "tags": []
   },
   "source": [
    "Clustering Summary (Mall Customers Dataset)\n",
    "\n",
    "Dataset Overview:\n",
    "- Rows: 200\n",
    "- Columns: 5\n",
    "- No missing values\n",
    "\n",
    "Selected Features:\n",
    "- Annual Income (k$)\n",
    "- Spending Score (1-100)\n",
    "\n",
    "Clustering Technique:\n",
    "- Algorithm: K-Means\n",
    "- Clusters: 5\n",
    "- Assigned to new column: Cluster\n",
    "\n",
    "Evaluation:\n",
    "- Silhouette Score: 0.5539 → Good cluster separation\n",
    "\n",
    "Key Insights:\n",
    "- Clear customer segments based on income & spending\n",
    "- Clusters can guide targeted marketing strategies\n",
    "\n",
    "Conclusion:\n",
    "- K-Means performed effectively on the dataset\n",
    "- Results are visually and statistically meaningful"
   ]
  },
  {
   "cell_type": "code",
   "execution_count": null,
   "id": "28072513",
   "metadata": {
    "papermill": {
     "duration": 0.004248,
     "end_time": "2025-04-21T12:26:10.144096",
     "exception": false,
     "start_time": "2025-04-21T12:26:10.139848",
     "status": "completed"
    },
    "tags": []
   },
   "outputs": [],
   "source": []
  }
 ],
 "metadata": {
  "kaggle": {
   "accelerator": "none",
   "dataSources": [
    {
     "datasetId": 42674,
     "sourceId": 74935,
     "sourceType": "datasetVersion"
    }
   ],
   "dockerImageVersionId": 31012,
   "isGpuEnabled": false,
   "isInternetEnabled": false,
   "language": "python",
   "sourceType": "notebook"
  },
  "kernelspec": {
   "display_name": "Python 3",
   "language": "python",
   "name": "python3"
  },
  "language_info": {
   "codemirror_mode": {
    "name": "ipython",
    "version": 3
   },
   "file_extension": ".py",
   "mimetype": "text/x-python",
   "name": "python",
   "nbconvert_exporter": "python",
   "pygments_lexer": "ipython3",
   "version": "3.11.11"
  },
  "papermill": {
   "default_parameters": {},
   "duration": 9.444621,
   "end_time": "2025-04-21T12:26:10.768084",
   "environment_variables": {},
   "exception": null,
   "input_path": "__notebook__.ipynb",
   "output_path": "__notebook__.ipynb",
   "parameters": {},
   "start_time": "2025-04-21T12:26:01.323463",
   "version": "2.6.0"
  }
 },
 "nbformat": 4,
 "nbformat_minor": 5
}

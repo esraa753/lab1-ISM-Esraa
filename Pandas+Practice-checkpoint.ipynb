{
 "cells": [
  {
   "cell_type": "markdown",
   "metadata": {
    "collapsed": true,
    "jupyter": {
     "outputs_hidden": true
    }
   },
   "source": [
    "# Part 1"
   ]
  },
  {
   "cell_type": "markdown",
   "metadata": {},
   "source": [
    "The file \"Purchase_Data.csv\" contains purchase data at a Chinese supermarket for various products.  Read this csv into a dataframe called df_data and use the head() method to check that you have read in the data correctly. Make sure you import pandas."
   ]
  },
  {
   "cell_type": "code",
   "execution_count": 22,
   "metadata": {
    "collapsed": false,
    "jupyter": {
     "outputs_hidden": false
    }
   },
   "outputs": [
    {
     "name": "stdout",
     "output_type": "stream",
     "text": [
      "   invoice_number   invoice_time store_id  product_id  category_id  num_item  \\\n",
      "0    2.020000e+11  7/15/15 10:45     G816     7000300       210101       1.0   \n",
      "1    2.020000e+11  7/15/15 12:16     G816     7070884        70203       1.0   \n",
      "2    2.020000e+11  7/15/15 12:16     G816     7070884        70203       1.0   \n",
      "3    2.020000e+11  7/15/15 12:16     G816     7070891        70401       1.0   \n",
      "4    2.020000e+11  7/15/15 12:16     G816     7090363        70401       1.0   \n",
      "\n",
      "   price  \n",
      "0    2.0  \n",
      "1    2.0  \n",
      "2    2.0  \n",
      "3    6.0  \n",
      "4    6.0  \n"
     ]
    }
   ],
   "source": [
    "import pandas as pd\n",
    "df_data = pd.read_csv(r\"D:\\DEPI Python Jupyter\\Pandas Practice assignment\\Data\\Purchase_Data.csv\")\n",
    "print(df_data.head())"
   ]
  },
  {
   "cell_type": "markdown",
   "metadata": {},
   "source": [
    "Use the dtypes attribute to view how each column is stored"
   ]
  },
  {
   "cell_type": "code",
   "execution_count": 24,
   "metadata": {
    "collapsed": false,
    "jupyter": {
     "outputs_hidden": false
    }
   },
   "outputs": [
    {
     "name": "stdout",
     "output_type": "stream",
     "text": [
      "<class 'pandas.core.frame.DataFrame'>\n",
      "RangeIndex: 5382 entries, 0 to 5381\n",
      "Data columns (total 7 columns):\n",
      " #   Column          Non-Null Count  Dtype  \n",
      "---  ------          --------------  -----  \n",
      " 0   invoice_number  5382 non-null   float64\n",
      " 1   invoice_time    5382 non-null   object \n",
      " 2   store_id        5382 non-null   object \n",
      " 3   product_id      5382 non-null   int64  \n",
      " 4   category_id     5382 non-null   int64  \n",
      " 5   num_item        5382 non-null   float64\n",
      " 6   price           5382 non-null   float64\n",
      "dtypes: float64(3), int64(2), object(2)\n",
      "memory usage: 294.5+ KB\n"
     ]
    }
   ],
   "source": [
    "df_data.info()\n"
   ]
  },
  {
   "cell_type": "markdown",
   "metadata": {},
   "source": [
    "Slice the first two columns using .loc and store the result in a variable called result_1."
   ]
  },
  {
   "cell_type": "code",
   "execution_count": 26,
   "metadata": {
    "collapsed": false,
    "jupyter": {
     "outputs_hidden": false
    }
   },
   "outputs": [
    {
     "name": "stdout",
     "output_type": "stream",
     "text": [
      "      invoice_number   invoice_time\n",
      "0       2.020000e+11  7/15/15 10:45\n",
      "1       2.020000e+11  7/15/15 12:16\n",
      "2       2.020000e+11  7/15/15 12:16\n",
      "3       2.020000e+11  7/15/15 12:16\n",
      "4       2.020000e+11  7/15/15 12:16\n",
      "...              ...            ...\n",
      "5377    2.020000e+11   9/5/15 23:07\n",
      "5378    2.020000e+11   9/5/15 23:23\n",
      "5379    2.020000e+11   9/5/15 23:24\n",
      "5380    2.020000e+11   9/5/15 23:32\n",
      "5381    2.020000e+11   9/5/15 23:38\n",
      "\n",
      "[5382 rows x 2 columns]\n"
     ]
    }
   ],
   "source": [
    "result_1 = df_data.loc[:, [\"invoice_number\", \"invoice_time\"]]\n",
    "print(result_1)"
   ]
  },
  {
   "cell_type": "markdown",
   "metadata": {},
   "source": [
    "Slice the first two rows using .loc and store the result in a variable called result_2."
   ]
  },
  {
   "cell_type": "code",
   "execution_count": 30,
   "metadata": {
    "collapsed": false,
    "jupyter": {
     "outputs_hidden": false
    }
   },
   "outputs": [
    {
     "name": "stdout",
     "output_type": "stream",
     "text": [
      "   invoice_number   invoice_time store_id  product_id  category_id  num_item  \\\n",
      "0    2.020000e+11  7/15/15 10:45     G816     7000300       210101       1.0   \n",
      "1    2.020000e+11  7/15/15 12:16     G816     7070884        70203       1.0   \n",
      "\n",
      "   price  \n",
      "0    2.0  \n",
      "1    2.0  \n"
     ]
    }
   ],
   "source": [
    "result_2 = df_data.loc[:1, :]\n",
    "print(result_2)\n"
   ]
  },
  {
   "cell_type": "markdown",
   "metadata": {},
   "source": [
    "Slice the first four rows and the first five columns and store the result in a variable called result_3."
   ]
  },
  {
   "cell_type": "code",
   "execution_count": 32,
   "metadata": {
    "collapsed": false,
    "jupyter": {
     "outputs_hidden": false
    }
   },
   "outputs": [
    {
     "name": "stdout",
     "output_type": "stream",
     "text": [
      "   invoice_number   invoice_time store_id  product_id  category_id\n",
      "0    2.020000e+11  7/15/15 10:45     G816     7000300       210101\n",
      "1    2.020000e+11  7/15/15 12:16     G816     7070884        70203\n",
      "2    2.020000e+11  7/15/15 12:16     G816     7070884        70203\n",
      "3    2.020000e+11  7/15/15 12:16     G816     7070891        70401\n"
     ]
    }
   ],
   "source": [
    "result_3 = df_data.loc[:3, df_data.columns[:5]]\n",
    "print(result_3)"
   ]
  },
  {
   "cell_type": "markdown",
   "metadata": {},
   "source": [
    "Slice rows 0,4,6 and columns invoice time and price and store the result in variable called result_4."
   ]
  },
  {
   "cell_type": "code",
   "execution_count": 38,
   "metadata": {
    "collapsed": false,
    "jupyter": {
     "outputs_hidden": false
    }
   },
   "outputs": [
    {
     "name": "stdout",
     "output_type": "stream",
     "text": [
      "    invoice_time  price\n",
      "0  7/15/15 10:45    2.0\n",
      "4  7/15/15 12:16    6.0\n",
      "6  7/15/15 15:28    2.0\n"
     ]
    }
   ],
   "source": [
    "result_4 = df_data.loc[[0, 4, 6], [\"invoice_time\", \"price\"]]\n",
    "print(result_4)\n"
   ]
  },
  {
   "cell_type": "markdown",
   "metadata": {},
   "source": [
    "Store the number rows in a variable called num_rows."
   ]
  },
  {
   "cell_type": "code",
   "execution_count": 42,
   "metadata": {
    "collapsed": false,
    "jupyter": {
     "outputs_hidden": false
    }
   },
   "outputs": [
    {
     "name": "stdout",
     "output_type": "stream",
     "text": [
      "5382\n"
     ]
    }
   ],
   "source": [
    "num_rows = df_data.shape[0]\n",
    "print(num_rows)"
   ]
  },
  {
   "cell_type": "markdown",
   "metadata": {},
   "source": [
    "Print out the last row of the data to dataframe. **Hint:** use the variable num_rows from the previous exercise."
   ]
  },
  {
   "cell_type": "code",
   "execution_count": 44,
   "metadata": {
    "collapsed": false,
    "jupyter": {
     "outputs_hidden": false
    }
   },
   "outputs": [
    {
     "name": "stdout",
     "output_type": "stream",
     "text": [
      "invoice_number    202000000000.0\n",
      "invoice_time        9/5/15 23:38\n",
      "store_id                    G619\n",
      "product_id              23030206\n",
      "category_id               210101\n",
      "num_item                     1.0\n",
      "price                        2.0\n",
      "Name: 5381, dtype: object\n"
     ]
    }
   ],
   "source": [
    "last_row = df_data.iloc[-1]\n",
    "print(last_row)\n"
   ]
  },
  {
   "cell_type": "markdown",
   "metadata": {},
   "source": [
    "# Part 2"
   ]
  },
  {
   "cell_type": "markdown",
   "metadata": {},
   "source": [
    "Compute the average and max price charged.  Store the results in variables called avg_price and max_price"
   ]
  },
  {
   "cell_type": "code",
   "execution_count": 48,
   "metadata": {
    "collapsed": false,
    "jupyter": {
     "outputs_hidden": false
    }
   },
   "outputs": [
    {
     "name": "stdout",
     "output_type": "stream",
     "text": [
      "3.1920522110741363\n",
      "6.01\n"
     ]
    }
   ],
   "source": [
    "avg_price = df_data[\"price\"].mean()\n",
    "max_price = df_data[\"price\"].max()\n",
    "print(avg_price)\n",
    "print(max_price)\n"
   ]
  },
  {
   "cell_type": "markdown",
   "metadata": {},
   "source": [
    "Compute the average price and average number of items purchased with only a single call to the mean() method. Store these averages in avg_price and avg_num_items."
   ]
  },
  {
   "cell_type": "code",
   "execution_count": 52,
   "metadata": {
    "collapsed": false,
    "jupyter": {
     "outputs_hidden": false
    }
   },
   "outputs": [
    {
     "name": "stdout",
     "output_type": "stream",
     "text": [
      "3.1920522110741363\n",
      "1.2983091787439613\n"
     ]
    }
   ],
   "source": [
    "averages = df_data[[\"price\", \"num_item\"]].mean()\n",
    "avg_price = averages[\"price\"]\n",
    "avg_num_item = averages[\"num_item\"]\n",
    "print( avg_price)\n",
    "print( avg_num_item)\n"
   ]
  },
  {
   "cell_type": "markdown",
   "metadata": {},
   "source": [
    "Create a column called \"total\", which is the product of the price and num_item columns."
   ]
  },
  {
   "cell_type": "code",
   "execution_count": 56,
   "metadata": {
    "collapsed": false,
    "jupyter": {
     "outputs_hidden": false
    }
   },
   "outputs": [
    {
     "name": "stdout",
     "output_type": "stream",
     "text": [
      "   invoice_number   invoice_time store_id  product_id  category_id  num_item  \\\n",
      "0    2.020000e+11  7/15/15 10:45     G816     7000300       210101       1.0   \n",
      "1    2.020000e+11  7/15/15 12:16     G816     7070884        70203       1.0   \n",
      "2    2.020000e+11  7/15/15 12:16     G816     7070884        70203       1.0   \n",
      "3    2.020000e+11  7/15/15 12:16     G816     7070891        70401       1.0   \n",
      "4    2.020000e+11  7/15/15 12:16     G816     7090363        70401       1.0   \n",
      "\n",
      "   price  total  \n",
      "0    2.0    2.0  \n",
      "1    2.0    2.0  \n",
      "2    2.0    2.0  \n",
      "3    6.0    6.0  \n",
      "4    6.0    6.0  \n"
     ]
    }
   ],
   "source": [
    "df_data[\"total\"] = df_data[\"price\"] * df_data[\"num_item\"]\n",
    "print(df_data.head())\n"
   ]
  },
  {
   "cell_type": "markdown",
   "metadata": {},
   "source": [
    "What is the avgerage price of the three most expensive purchases? "
   ]
  },
  {
   "cell_type": "code",
   "execution_count": 58,
   "metadata": {
    "collapsed": false,
    "jupyter": {
     "outputs_hidden": false
    }
   },
   "outputs": [
    {
     "name": "stdout",
     "output_type": "stream",
     "text": [
      "Average price of the three most expensive purchases: 6.003333333333333\n"
     ]
    }
   ],
   "source": [
    "avg_top_three_price = df_data[\"price\"].nlargest(3).mean()\n",
    "print(\"Average price of the three most expensive purchases:\", avg_top_three_price)\n"
   ]
  },
  {
   "cell_type": "markdown",
   "metadata": {},
   "source": [
    "How many different products are there?"
   ]
  },
  {
   "cell_type": "code",
   "execution_count": 62,
   "metadata": {
    "collapsed": false,
    "jupyter": {
     "outputs_hidden": false
    }
   },
   "outputs": [
    {
     "name": "stdout",
     "output_type": "stream",
     "text": [
      "53\n"
     ]
    }
   ],
   "source": [
    "num_unique_products = df_data[\"product_id\"].nunique()\n",
    "print(num_unique_products)\n"
   ]
  },
  {
   "cell_type": "markdown",
   "metadata": {},
   "source": [
    "Find the difference between the mean and median of the column total.  Use the describe() method and then index the dataframe it returns."
   ]
  },
  {
   "cell_type": "code",
   "execution_count": 64,
   "metadata": {
    "collapsed": false,
    "jupyter": {
     "outputs_hidden": false
    }
   },
   "outputs": [
    {
     "name": "stdout",
     "output_type": "stream",
     "text": [
      "Difference between mean and median of total: 0.9318078781127839\n"
     ]
    }
   ],
   "source": [
    "stats = df_data[\"total\"].describe()\n",
    "difference = stats[\"mean\"] - stats[\"50%\"]\n",
    "print(\"Difference between mean and median of total:\", difference)\n"
   ]
  },
  {
   "cell_type": "markdown",
   "metadata": {},
   "source": [
    "Use the drop() method to delete the column total from the dataframe df_data."
   ]
  },
  {
   "cell_type": "code",
   "execution_count": 66,
   "metadata": {
    "collapsed": false,
    "jupyter": {
     "outputs_hidden": false
    }
   },
   "outputs": [
    {
     "name": "stdout",
     "output_type": "stream",
     "text": [
      "   invoice_number   invoice_time store_id  product_id  category_id  num_item  \\\n",
      "0    2.020000e+11  7/15/15 10:45     G816     7000300       210101       1.0   \n",
      "1    2.020000e+11  7/15/15 12:16     G816     7070884        70203       1.0   \n",
      "2    2.020000e+11  7/15/15 12:16     G816     7070884        70203       1.0   \n",
      "3    2.020000e+11  7/15/15 12:16     G816     7070891        70401       1.0   \n",
      "4    2.020000e+11  7/15/15 12:16     G816     7090363        70401       1.0   \n",
      "\n",
      "   price  \n",
      "0    2.0  \n",
      "1    2.0  \n",
      "2    2.0  \n",
      "3    6.0  \n",
      "4    6.0  \n"
     ]
    }
   ],
   "source": [
    "df_data = df_data.drop(columns=[\"total\"])\n",
    "print(df_data.head())"
   ]
  },
  {
   "cell_type": "markdown",
   "metadata": {},
   "source": [
    "Let's dig a little deeper into the data set and answer some basic question."
   ]
  },
  {
   "cell_type": "code",
   "execution_count": 1,
   "metadata": {
    "collapsed": false,
    "jupyter": {
     "outputs_hidden": false
    }
   },
   "outputs": [],
   "source": [
    "#Write your code here\n"
   ]
  },
  {
   "cell_type": "markdown",
   "metadata": {},
   "source": [
    "First, covert the column invoice time to a datetime column. Print out the new column types to make sure this was done correctly"
   ]
  },
  {
   "cell_type": "code",
   "execution_count": 72,
   "metadata": {
    "collapsed": false,
    "jupyter": {
     "outputs_hidden": false
    }
   },
   "outputs": [
    {
     "name": "stdout",
     "output_type": "stream",
     "text": [
      "invoice_number           float64\n",
      "invoice_time      datetime64[ns]\n",
      "store_id                  object\n",
      "product_id                 int64\n",
      "category_id                int64\n",
      "num_item                 float64\n",
      "price                    float64\n",
      "dtype: object\n"
     ]
    }
   ],
   "source": [
    "df_data[\"invoice_time\"] = pd.to_datetime(df_data[\"invoice_time\"])\n",
    "print(df_data.dtypes)\n"
   ]
  },
  {
   "cell_type": "markdown",
   "metadata": {},
   "source": [
    "Next, let's create columns called \"DOW\" and \"Month\", which store the corresponding weekday and month of the invoice respectively.  Print the head of the dataframe to make sure this was done correctly."
   ]
  },
  {
   "cell_type": "code",
   "execution_count": 74,
   "metadata": {
    "collapsed": false,
    "jupyter": {
     "outputs_hidden": false
    }
   },
   "outputs": [
    {
     "name": "stdout",
     "output_type": "stream",
     "text": [
      "   invoice_number        invoice_time store_id  product_id  category_id  \\\n",
      "0    2.020000e+11 2015-07-15 10:45:00     G816     7000300       210101   \n",
      "1    2.020000e+11 2015-07-15 12:16:00     G816     7070884        70203   \n",
      "2    2.020000e+11 2015-07-15 12:16:00     G816     7070884        70203   \n",
      "3    2.020000e+11 2015-07-15 12:16:00     G816     7070891        70401   \n",
      "4    2.020000e+11 2015-07-15 12:16:00     G816     7090363        70401   \n",
      "\n",
      "   num_item  price        DOW Month  \n",
      "0       1.0    2.0  Wednesday  July  \n",
      "1       1.0    2.0  Wednesday  July  \n",
      "2       1.0    2.0  Wednesday  July  \n",
      "3       1.0    6.0  Wednesday  July  \n",
      "4       1.0    6.0  Wednesday  July  \n"
     ]
    }
   ],
   "source": [
    "df_data[\"DOW\"] = df_data[\"invoice_time\"].dt.day_name()\n",
    "df_data[\"Month\"] = df_data[\"invoice_time\"].dt.month_name()\n",
    "print(df_data.head())"
   ]
  },
  {
   "cell_type": "markdown",
   "metadata": {},
   "source": [
    "Create a variable called num_purchases_wed, which stores the number of purchases made on Wednesday?  You should use value_counts and then index the series it return."
   ]
  },
  {
   "cell_type": "code",
   "execution_count": 76,
   "metadata": {
    "collapsed": false,
    "jupyter": {
     "outputs_hidden": false
    }
   },
   "outputs": [
    {
     "name": "stdout",
     "output_type": "stream",
     "text": [
      "Number of purchases on Wednesday: 959\n"
     ]
    }
   ],
   "source": [
    "purchases_per_day = df_data[\"DOW\"].value_counts()\n",
    "num_purchases_wed = purchases_per_day[\"Wednesday\"]\n",
    "print(\"Number of purchases on Wednesday:\", num_purchases_wed)\n"
   ]
  },
  {
   "cell_type": "markdown",
   "metadata": {},
   "source": [
    "# Part 3"
   ]
  },
  {
   "cell_type": "markdown",
   "metadata": {},
   "source": [
    "In this set of practice exercises, we will be working with a demographic data regarding the passengers aboard the Titanic.  Read in the data frame and use the head() method to check that it was read in correctly."
   ]
  },
  {
   "cell_type": "code",
   "execution_count": 82,
   "metadata": {
    "collapsed": false,
    "jupyter": {
     "outputs_hidden": false
    }
   },
   "outputs": [
    {
     "name": "stdout",
     "output_type": "stream",
     "text": [
      "   PassengerId  Pclass                                          Name     Sex  \\\n",
      "0          892       3                              Kelly, Mr. James    male   \n",
      "1          893       3              Wilkes, Mrs. James (Ellen Needs)  female   \n",
      "2          894       2                     Myles, Mr. Thomas Francis    male   \n",
      "3          895       3                              Wirz, Mr. Albert    male   \n",
      "4          896       3  Hirvonen, Mrs. Alexander (Helga E Lindqvist)  female   \n",
      "\n",
      "    Age  SibSp  Parch   Ticket     Fare Cabin Embarked  \n",
      "0  34.5      0      0   330911   7.8292   NaN        Q  \n",
      "1  47.0      1      0   363272   7.0000   NaN        S  \n",
      "2  62.0      0      0   240276   9.6875   NaN        Q  \n",
      "3  27.0      0      0   315154   8.6625   NaN        S  \n",
      "4  22.0      1      1  3101298  12.2875   NaN        S  \n"
     ]
    }
   ],
   "source": [
    "import pandas as pd\n",
    "df_titanic = pd.read_csv(r\"D:\\DEPI Python Jupyter\\Pandas Practice assignment\\Data\\Titanic.csv\")\n",
    "print(df_titanic.head())\n"
   ]
  },
  {
   "cell_type": "markdown",
   "metadata": {},
   "source": [
    "Use the rename method to change the column \"Name\" to \"Passenger_Name\" and the column \"Ticket\" to \"Ticket_Num\"."
   ]
  },
  {
   "cell_type": "code",
   "execution_count": 84,
   "metadata": {
    "collapsed": false,
    "jupyter": {
     "outputs_hidden": false
    }
   },
   "outputs": [
    {
     "name": "stdout",
     "output_type": "stream",
     "text": [
      "   PassengerId  Pclass                                Passenger_Name     Sex  \\\n",
      "0          892       3                              Kelly, Mr. James    male   \n",
      "1          893       3              Wilkes, Mrs. James (Ellen Needs)  female   \n",
      "2          894       2                     Myles, Mr. Thomas Francis    male   \n",
      "3          895       3                              Wirz, Mr. Albert    male   \n",
      "4          896       3  Hirvonen, Mrs. Alexander (Helga E Lindqvist)  female   \n",
      "\n",
      "    Age  SibSp  Parch Ticket_Num     Fare Cabin Embarked  \n",
      "0  34.5      0      0     330911   7.8292   NaN        Q  \n",
      "1  47.0      1      0     363272   7.0000   NaN        S  \n",
      "2  62.0      0      0     240276   9.6875   NaN        Q  \n",
      "3  27.0      0      0     315154   8.6625   NaN        S  \n",
      "4  22.0      1      1    3101298  12.2875   NaN        S  \n"
     ]
    }
   ],
   "source": [
    "df_titanic = df_titanic.rename(columns={\"Name\": \"Passenger_Name\", \"Ticket\": \"Ticket_Num\"})\n",
    "print(df_titanic.head())\n"
   ]
  },
  {
   "cell_type": "markdown",
   "metadata": {},
   "source": [
    "Change the index of the df_titanic to the column PasengerID."
   ]
  },
  {
   "cell_type": "code",
   "execution_count": 90,
   "metadata": {
    "collapsed": false,
    "jupyter": {
     "outputs_hidden": false
    },
    "scrolled": true
   },
   "outputs": [
    {
     "name": "stdout",
     "output_type": "stream",
     "text": [
      "             Pclass                                Passenger_Name     Sex  \\\n",
      "PassengerId                                                                 \n",
      "892               3                              Kelly, Mr. James    male   \n",
      "893               3              Wilkes, Mrs. James (Ellen Needs)  female   \n",
      "894               2                     Myles, Mr. Thomas Francis    male   \n",
      "895               3                              Wirz, Mr. Albert    male   \n",
      "896               3  Hirvonen, Mrs. Alexander (Helga E Lindqvist)  female   \n",
      "\n",
      "              Age  SibSp  Parch Ticket_Num     Fare Cabin Embarked  \n",
      "PassengerId                                                         \n",
      "892          34.5      0      0     330911   7.8292   NaN        Q  \n",
      "893          47.0      1      0     363272   7.0000   NaN        S  \n",
      "894          62.0      0      0     240276   9.6875   NaN        Q  \n",
      "895          27.0      0      0     315154   8.6625   NaN        S  \n",
      "896          22.0      1      1    3101298  12.2875   NaN        S  \n"
     ]
    }
   ],
   "source": [
    "df_titanic = df_titanic.set_index(\"PassengerId\")\n",
    "print(df_titanic.head())\n"
   ]
  },
  {
   "cell_type": "markdown",
   "metadata": {},
   "source": [
    "Select the name of passenger 896"
   ]
  },
  {
   "cell_type": "code",
   "execution_count": 112,
   "metadata": {
    "collapsed": false,
    "jupyter": {
     "outputs_hidden": false
    }
   },
   "outputs": [
    {
     "data": {
      "text/plain": [
       "'Hirvonen, Mrs. Alexander (Helga E Lindqvist)'"
      ]
     },
     "execution_count": 112,
     "metadata": {},
     "output_type": "execute_result"
    }
   ],
   "source": [
    "\n",
    "import pandas as pd\n",
    "df_titanic = pd.read_csv(r\"D:\\DEPI Python Jupyter\\Pandas Practice assignment\\Data\\Titanic.csv\")\n",
    "df.loc[4, 'Name']\n"
   ]
  },
  {
   "cell_type": "markdown",
   "metadata": {},
   "source": [
    "Change the index back to row numbers but making sure that we don't lose the PassengerId column. "
   ]
  },
  {
   "cell_type": "code",
   "execution_count": 150,
   "metadata": {
    "collapsed": false,
    "jupyter": {
     "outputs_hidden": false
    }
   },
   "outputs": [
    {
     "name": "stdout",
     "output_type": "stream",
     "text": [
      "(418, 15)\n"
     ]
    }
   ],
   "source": [
    "df.reset_index(drop=True, inplace=True)\n",
    "print(df.shape)"
   ]
  },
  {
   "cell_type": "markdown",
   "metadata": {},
   "source": [
    "\n",
    "How many missing entries are there in the Age column? Use the isnull() method and recall than Booleans are exactly like 1s (True) and 0s (False)."
   ]
  },
  {
   "cell_type": "code",
   "execution_count": 156,
   "metadata": {
    "collapsed": false,
    "jupyter": {
     "outputs_hidden": false
    }
   },
   "outputs": [
    {
     "data": {
      "text/plain": [
       "86"
      ]
     },
     "execution_count": 156,
     "metadata": {},
     "output_type": "execute_result"
    }
   ],
   "source": [
    "df['Age'].isnull().sum()\n"
   ]
  },
  {
   "cell_type": "markdown",
   "metadata": {},
   "source": [
    "Compute the avg age of passengers ignoring the missing data."
   ]
  },
  {
   "cell_type": "code",
   "execution_count": 158,
   "metadata": {
    "collapsed": false,
    "jupyter": {
     "outputs_hidden": false
    }
   },
   "outputs": [
    {
     "data": {
      "text/plain": [
       "30.272590361445783"
      ]
     },
     "execution_count": 158,
     "metadata": {},
     "output_type": "execute_result"
    }
   ],
   "source": [
    " df['Age'].mean()\n"
   ]
  },
  {
   "cell_type": "markdown",
   "metadata": {},
   "source": [
    "Using the fillna() method replace the missing values in the Age column with the mean."
   ]
  },
  {
   "cell_type": "code",
   "execution_count": 170,
   "metadata": {
    "collapsed": false,
    "jupyter": {
     "outputs_hidden": false
    }
   },
   "outputs": [
    {
     "name": "stdout",
     "output_type": "stream",
     "text": [
      "0      34.50000\n",
      "1      47.00000\n",
      "2      62.00000\n",
      "3      27.00000\n",
      "4      22.00000\n",
      "         ...   \n",
      "413    30.27259\n",
      "414    39.00000\n",
      "415    38.50000\n",
      "416    30.27259\n",
      "417    30.27259\n",
      "Name: Age, Length: 418, dtype: float64\n"
     ]
    }
   ],
   "source": [
    "df['Age']=df['Age'] .fillna (df['Age'].mean())\n",
    "print(df['Age'])\n"
   ]
  },
  {
   "cell_type": "markdown",
   "metadata": {},
   "source": [
    "What is the average age of the 5 oldest passengers? The reset_index method will be helpful here."
   ]
  },
  {
   "cell_type": "code",
   "execution_count": 174,
   "metadata": {
    "collapsed": false,
    "jupyter": {
     "outputs_hidden": false
    }
   },
   "outputs": [
    {
     "data": {
      "text/plain": [
       "67.0"
      ]
     },
     "execution_count": 174,
     "metadata": {},
     "output_type": "execute_result"
    }
   ],
   "source": [
    "df.sort_values('Age', ascending=False).head(5)\n",
    "oldest_5['Age'].mean()\n"
   ]
  },
  {
   "cell_type": "code",
   "execution_count": null,
   "metadata": {},
   "outputs": [],
   "source": []
  }
 ],
 "metadata": {
  "kernelspec": {
   "display_name": "Python 3 (ipykernel)",
   "language": "python",
   "name": "python3"
  },
  "language_info": {
   "codemirror_mode": {
    "name": "ipython",
    "version": 3
   },
   "file_extension": ".py",
   "mimetype": "text/x-python",
   "name": "python",
   "nbconvert_exporter": "python",
   "pygments_lexer": "ipython3",
   "version": "3.12.4"
  },
  "toc": {
   "nav_menu": {
    "height": "48px",
    "width": "252px"
   },
   "number_sections": true,
   "sideBar": true,
   "skip_h1_title": false,
   "toc_cell": false,
   "toc_position": {},
   "toc_section_display": "block",
   "toc_window_display": false
  }
 },
 "nbformat": 4,
 "nbformat_minor": 4
}

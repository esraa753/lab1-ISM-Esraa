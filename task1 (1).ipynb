{
 "cells": [
  {
   "cell_type": "code",
   "execution_count": null,
   "id": "1706e77f-98b5-441e-b1c0-a20b5bf69461",
   "metadata": {},
   "outputs": [],
   "source": [
    "import pandas as pd\n",
    "#creating aseries \n",
    "series= pd.series([1,2,3,4])\n",
    "print(series)"
   ]
  },
  {
   "cell_type": "code",
   "execution_count": null,
   "id": "510c7421-2876-4656-8eeb-100a765b6fe3",
   "metadata": {},
   "outputs": [],
   "source": [
    "#creatind dataframe from dic\n",
    "data={'name':[esraa,asmaa,rewan]\n",
    "      'age':[22,20,16] }\n",
    "df= pd.dataframe(data)\n",
    "print(df)\n",
    "      "
   ]
  },
  {
   "cell_type": "code",
   "execution_count": null,
   "id": "801a5313-db36-42e5-92ac-c1ad99cd1429",
   "metadata": {},
   "outputs": [],
   "source": [
    "#viewing the first 5 rows\n",
    "df.head()"
   ]
  },
  {
   "cell_type": "code",
   "execution_count": null,
   "id": "8fb94977-4a50-4b3e-bc87-0cde6dfd6dc3",
   "metadata": {},
   "outputs": [],
   "source": [
    "#getting dataframe info\n",
    "df.info()"
   ]
  },
  {
   "cell_type": "code",
   "execution_count": null,
   "id": "c9a39cc3-c1da-4031-93d5-008608d75712",
   "metadata": {},
   "outputs": [],
   "source": [
    "#describing statistical info\n",
    "df.describe()"
   ]
  },
  {
   "cell_type": "code",
   "execution_count": null,
   "id": "7749035c-a231-4136-be68-a11b31903e54",
   "metadata": {},
   "outputs": [],
   "source": [
    "#select coloumns\n",
    "print(df['name'])"
   ]
  },
  {
   "cell_type": "code",
   "execution_count": null,
   "id": "65edf97d-9792-4f7b-a78a-3c46cc37e5e3",
   "metadata": {},
   "outputs": [],
   "source": [
    "#filtering rows based on condition\n",
    "filtered_df= df[df['age'>20]\n",
    "print(filtered_df)"
   ]
  },
  {
   "cell_type": "code",
   "execution_count": null,
   "id": "e0a05f59-a021-495e-baf7-a41d85d0248d",
   "metadata": {},
   "outputs": [],
   "source": [
    "#selecting specific rows and columns\n",
    "selected_df= df.loc[0:1,['name','age']]\n",
    "print(selected_df)\n",
    "df.iloc[0:1 ,[0,1]]"
   ]
  },
  {
   "cell_type": "code",
   "execution_count": null,
   "id": "1d2c2ad6-b0fc-4282-811d-47beed697772",
   "metadata": {},
   "outputs": [],
   "source": [
    "#adding new column\n",
    "df['salary']=[100,200,300]\n",
    "print(df)"
   ]
  },
  {
   "cell_type": "code",
   "execution_count": null,
   "id": "bb436c77-418e-4e9f-8332-34a88e500026",
   "metadata": {},
   "outputs": [],
   "source": [
    "#Updating Column Values\n",
    "df['age']=df['age']+1\n",
    "print(df)"
   ]
  },
  {
   "cell_type": "code",
   "execution_count": null,
   "id": "6ade025a-ddae-47a5-8846-1892787b165d",
   "metadata": {},
   "outputs": [],
   "source": [
    "#Dropping Columns\n",
    "df=df.drop('age',axis=1)\n",
    "print(df)\n",
    "#sol of Try\n",
    "df=df.drop(0,axis=0)\n",
    "print(df)"
   ]
  },
  {
   "cell_type": "code",
   "execution_count": null,
   "id": "9670f33c-0ecf-4fc7-9d8c-c6d520f5d4a8",
   "metadata": {},
   "outputs": [],
   "source": [
    "#Detecting Missing Values\n",
    "df_with_nan=pd.dataframe({'a':[1,2,none],'b':[4,none,6]})\n",
    "print(df_with_nan.isnull())"
   ]
  },
  {
   "cell_type": "code",
   "execution_count": null,
   "id": "a731adb9-5498-4411-b568-1f10735d500d",
   "metadata": {},
   "outputs": [],
   "source": [
    "#Create DataFrame from dict\n",
    "student_df = pd.DataFrame (student_dict, index=['a', 'b', 'c', 'd'])\n",
    "student_df"
   ]
  },
  {
   "cell_type": "code",
   "execution_count": null,
   "id": "bf0d828f-91fd-465b-98e1-919bfc659838",
   "metadata": {},
   "outputs": [],
   "source": [
    "student_df.fillna(0)"
   ]
  },
  {
   "cell_type": "code",
   "execution_count": null,
   "id": "a599e7c0-b1ce-44bc-a2c0-b590fe06e0ce",
   "metadata": {},
   "outputs": [],
   "source": [
    "df_with_nan= pd.DataFrame({'A': [1,2, None), 'B': [None, None, 6]))\n",
    "df_with_nan"
   ]
  },
  {
   "cell_type": "code",
   "execution_count": null,
   "id": "6fa5e5fe-be68-4046-a426-222bdab3428b",
   "metadata": {},
   "outputs": [],
   "source": [
    "df_with_nan['A'] = df_with_nan['A'].fillna( df_with_nan['A'].mean())\n",
    "df_with_nan"
   ]
  },
  {
   "cell_type": "code",
   "execution_count": null,
   "id": "92327bf7-a24c-4886-bc80-aacd9bcbca03",
   "metadata": {},
   "outputs": [],
   "source": [
    "#Python dict object\n",
    "student_dict = {'Name': ['Joe', 'Ali', 'Baraa', \"Tala\"], 'Age': [20, None, 40,35], \"Marks': [None, None, 95,80] }\n",
    "#Create DataFrame from dict\n",
    "student_df = pd.DataFrame (student_dict, index=['a', 'b', 'c', 'd'])\n",
    "student_df"
   ]
  },
  {
   "cell_type": "code",
   "execution_count": null,
   "id": "859c2b98-aee8-4f23-abee-5b9b26874d7c",
   "metadata": {},
   "outputs": [],
   "source": [
    "student_df[\"Marks\"].mean()"
   ]
  },
  {
   "cell_type": "code",
   "execution_count": null,
   "id": "da00af06-3983-421f-b0db-9d768c76bb03",
   "metadata": {},
   "outputs": [],
   "source": [
    "student_df[\"Marks\"].fillna(student_df[\"Marks\"].mean())"
   ]
  },
  {
   "cell_type": "code",
   "execution_count": null,
   "id": "15c5586b-00c2-48d8-b901-f7a648c93218",
   "metadata": {},
   "outputs": [],
   "source": [
    "#Dropping Rows with Missing Values\n",
    "df_with_nan = pd.DataFrame({'A': [1, 2, None], 'B': [4, None, 6]])\n",
    "print(df_with_nan.isnull())\n",
    "cleaned_df = df_with_nan.dropna()\n",
    "print(cleaned_df)"
   ]
  },
  {
   "cell_type": "code",
   "execution_count": null,
   "id": "8a2c5f6a-f941-4030-802e-4eb38668cc2e",
   "metadata": {},
   "outputs": [],
   "source": [
    "#Applying Custom Functions with apply()\n",
    "def double_salary(x):\n",
    "return x *2\n",
    "df['Double Salary'] = df['Salary').apply(double_salary)\n",
    "print(df)"
   ]
  },
  {
   "cell_type": "code",
   "execution_count": null,
   "id": "030f5025-4be4-4624-8c8b-c95010afb3b7",
   "metadata": {},
   "outputs": [],
   "source": [
    "#Grouping and Aggregation\n",
    "df = pd.DataFrame({'Department': ['HR', 'IT', 'HR', 'IT'],\n",
    "                   'Salary': [50000, 60000, 45000, 80000]})\n",
    "grouped = df.groupby('Department').mean()\n",
    "print(grouped)"
   ]
  },
  {
   "cell_type": "code",
   "execution_count": null,
   "id": "7f3a635c-deef-45f7-ae87-f7eae315d696",
   "metadata": {},
   "outputs": [],
   "source": [
    "#Calculating the Average Salary by Department\n",
    "average salary_by_dept= df.groupby('Department')['Salary'].mean()\n",
    "print(\"Average Salary by Department:\\n\")\n",
    "average_salary_by_dept.head()"
   ]
  },
  {
   "cell_type": "code",
   "execution_count": null,
   "id": "86127954-6001-488a-aa33-e93f6f12119a",
   "metadata": {},
   "outputs": [],
   "source": [
    "#csv\n",
    "import pandas as pd\n",
    "df_grades = pd.read_csv(\"Grades_Short.csv\")\n",
    "df_grades.head(3)"
   ]
  },
  {
   "cell_type": "code",
   "execution_count": null,
   "id": "b9ee1cf0-ec63-49a3-b6b0-ccf71dcf2edd",
   "metadata": {},
   "outputs": [],
   "source": [
    "#Get column names\n",
    "df_grades.columns"
   ]
  },
  {
   "cell_type": "code",
   "execution_count": null,
   "id": "a14b8508-bee8-4ddd-b841-3bcf453e0410",
   "metadata": {},
   "outputs": [],
   "source": [
    "#Get row names\n",
    "df_grades.index"
   ]
  },
  {
   "cell_type": "code",
   "execution_count": null,
   "id": "164e629c-e05c-417d-97b8-1bfb923e4cbb",
   "metadata": {},
   "outputs": [],
   "source": [
    "#Get Name column\n",
    "df_grades['Name']\n",
    "df grades. Name"
   ]
  },
  {
   "cell_type": "code",
   "execution_count": null,
   "id": "8fadacc4-4194-4cb1-a8b7-43bb19ec9eaa",
   "metadata": {},
   "outputs": [],
   "source": [
    "#Select multiple columns\n",
    "df_grades[[(\"Name\", \"Grade\"]]"
   ]
  },
  {
   "cell_type": "code",
   "execution_count": null,
   "id": "e1eec49f-6471-4be8-bba7-f82bb8ebbf77",
   "metadata": {},
   "outputs": [],
   "source": [
    "#Print the column\n",
    "df_grades [\"Name\"]"
   ]
  },
  {
   "cell_type": "code",
   "execution_count": null,
   "id": "2c576453-3e65-4045-ad20-bc06e6aa6387",
   "metadata": {},
   "outputs": [],
   "source": [
    "#Store the column\n",
    "names= df_grades [\"Name\"]\n",
    "names"
   ]
  },
  {
   "cell_type": "code",
   "execution_count": null,
   "id": "addda8dd-0bef-4e1f-811e-bb2cee67c564",
   "metadata": {},
   "outputs": [],
   "source": [
    "#Slicing a Data Frame\n",
    "first_name = df_grades.loc[0,\"Name\"]\n",
    "first_name"
   ]
  },
  {
   "cell_type": "code",
   "execution_count": null,
   "id": "f6e34106-ee27-41b0-a922-a2c26d479beb",
   "metadata": {},
   "outputs": [],
   "source": [
    "slice_one = df_grades.loc[0:2,\"Name\":\"Mini_Exam2\"]\n",
    "slice_one"
   ]
  },
  {
   "cell_type": "code",
   "execution_count": null,
   "id": "2e413855-a4f6-4812-9cb1-49a285805837",
   "metadata": {},
   "outputs": [],
   "source": [
    "max_mini_1 = df_grades[\"Mini_Examl\"].max()\n",
    "max_mini_1"
   ]
  },
  {
   "cell_type": "code",
   "execution_count": null,
   "id": "6847df2a-0b34-4de4-92e8-96ba66a39251",
   "metadata": {},
   "outputs": [],
   "source": [
    "#descripe in dataframe\n",
    "summary_df = df_grades.describe()\n",
    "summary_df"
   ]
  },
  {
   "cell_type": "code",
   "execution_count": null,
   "id": "e302d252-57e0-4e74-87e9-237cd331eafd",
   "metadata": {},
   "outputs": [],
   "source": [
    "#value counts metod\n",
    "df_grades[\"Grade\"].value_counts()"
   ]
  },
  {
   "cell_type": "code",
   "execution_count": null,
   "id": "c80e74cf-565c-4430-a2c6-f4f5e433c176",
   "metadata": {},
   "outputs": [],
   "source": [
    "#unique method\n",
    "df_grades [\"Grade\"].unique()"
   ]
  },
  {
   "cell_type": "code",
   "execution_count": null,
   "id": "07eaa715-8018-4caa-8719-700c17a87ed5",
   "metadata": {},
   "outputs": [],
   "source": [
    "#Get dimensions\n",
    "df_grades.shape"
   ]
  },
  {
   "cell_type": "code",
   "execution_count": null,
   "id": "04c331b2-bde7-4753-9875-173f7086e6e2",
   "metadata": {},
   "outputs": [],
   "source": [
    "#Get column types\n",
    "df_grades.dtypes"
   ]
  },
  {
   "cell_type": "code",
   "execution_count": null,
   "id": "a6d249eb-dacc-446d-aa4f-6072d6aac48a",
   "metadata": {},
   "outputs": [],
   "source": [
    "#Get first 5 rows\n",
    "df_grades.head()"
   ]
  },
  {
   "cell_type": "code",
   "execution_count": null,
   "id": "dbe1e515-b7c9-4bff-b601-334d6a756637",
   "metadata": {},
   "outputs": [],
   "source": [
    "#Compute mean of finals column\n",
    "df_grades[\"Final\"].mean()"
   ]
  },
  {
   "cell_type": "code",
   "execution_count": null,
   "id": "c8ac3fda-ec2f-4c0a-933d-d10a456add8e",
   "metadata": {},
   "outputs": [],
   "source": [
    "#Delete single column\n",
    "del df_grades [\"Final_Percentage\"]\n",
    "df_grades.head()"
   ]
  },
  {
   "cell_type": "code",
   "execution_count": null,
   "id": "5e6a2a48-92bf-4bec-ae50-d5390f9554f4",
   "metadata": {},
   "outputs": [],
   "source": [
    "#Delete multiple columns\n",
    "df_grades.drop((\"new_column\", \"Part_perc\"), axis=1, inplace = True)\n",
    "df_grades.head()"
   ]
  },
  {
   "cell_type": "code",
   "execution_count": null,
   "id": "224b579a-a51e-4fc4-83c0-e7ad52827202",
   "metadata": {},
   "outputs": [],
   "source": [
    "df_missing = pd.read_csv(\"Data/Missing_Data.csv\", \\na_values=[\"NaN\", \"not available\"])\n",
    "df_missing"
   ]
  },
  {
   "cell_type": "code",
   "execution_count": null,
   "id": "610bf83b-5b3d-49b9-9c49-812368713a5b",
   "metadata": {},
   "outputs": [],
   "source": [
    "#Isnull() Method\n",
    "df pd.read_csv(\"Data/Missing_Data.csv\", na_values=[\"NaN\", -1, \"not available\"])\n",
    "df"
   ]
  }
 ],
 "metadata": {
  "kernelspec": {
   "display_name": "Python 3 (ipykernel)",
   "language": "python",
   "name": "python3"
  },
  "language_info": {
   "codemirror_mode": {
    "name": "ipython",
    "version": 3
   },
   "file_extension": ".py",
   "mimetype": "text/x-python",
   "name": "python",
   "nbconvert_exporter": "python",
   "pygments_lexer": "ipython3",
   "version": "3.12.4"
  }
 },
 "nbformat": 4,
 "nbformat_minor": 5
}
